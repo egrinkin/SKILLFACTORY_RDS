{
 "cells": [
  {
   "cell_type": "markdown",
   "metadata": {
    "_cell_guid": "b1076dfc-b9ad-4769-8c92-a6c4dae69d19",
    "_uuid": "8f2839f25d086af736a60e9eeb907d3b93b6e0e5",
    "execution": {
     "iopub.execute_input": "2021-06-05T12:56:13.508518Z",
     "iopub.status.busy": "2021-06-05T12:56:13.508060Z",
     "iopub.status.idle": "2021-06-05T12:56:14.810464Z",
     "shell.execute_reply": "2021-06-05T12:56:14.809294Z",
     "shell.execute_reply.started": "2021-06-05T12:56:13.508426Z"
    }
   },
   "source": [
    "### Machine Learning\n"
   ]
  },
  {
   "cell_type": "code",
   "execution_count": 3,
   "metadata": {},
   "outputs": [],
   "source": [
    "import sys\n",
    "import numpy as np\n",
    "import pandas as pd\n",
    "import sklearn\n",
    "from sklearn.impute import SimpleImputer\n",
    "from sklearn.compose import ColumnTransformer, make_column_selector\n",
    "from sklearn.preprocessing import StandardScaler, MinMaxScaler, RobustScaler, OneHotEncoder\n",
    "from sklearn.feature_selection import SelectKBest, f_classif\n",
    "from sklearn.decomposition import PCA\n",
    "from sklearn.model_selection import RandomizedSearchCV\n",
    "from sklearn.pipeline import Pipeline\n",
    "from sklearn.linear_model import LogisticRegression\n",
    "from sklearn.ensemble import RandomForestClassifier, GradientBoostingClassifier\n",
    "import xgboost as xgb\n",
    "from sklearn.neighbors import KNeighborsClassifier\n",
    "from sklearn.tree import DecisionTreeClassifier\n",
    "from sklearn.svm import LinearSVC,SVC\n",
    "from sklearn.naive_bayes import GaussianNB\n",
    "from sklearn.metrics import accuracy_score\n",
    "import pickle"
   ]
  },
  {
   "cell_type": "code",
   "execution_count": 4,
   "metadata": {
    "execution": {
     "iopub.execute_input": "2021-06-05T12:56:14.812841Z",
     "iopub.status.busy": "2021-06-05T12:56:14.812391Z",
     "iopub.status.idle": "2021-06-05T12:56:14.820997Z",
     "shell.execute_reply": "2021-06-05T12:56:14.819899Z",
     "shell.execute_reply.started": "2021-06-05T12:56:14.812795Z"
    }
   },
   "outputs": [
    {
     "name": "stdout",
     "output_type": "stream",
     "text": [
      "Python       : 3.8.3 (default, Jul  2 2020, 17:30:36) [MSC v.1916 64 bit (AMD64)]\n",
      "Numpy        : 1.18.5\n",
      "Pandas       : 1.0.5\n",
      "Sklearn      : 0.23.1\n"
     ]
    }
   ],
   "source": [
    "print('Python       :', sys.version.split('\\n')[0])\n",
    "print('Numpy        :', np.__version__)\n",
    "print('Pandas       :', pd.__version__)\n",
    "print('Sklearn      :', sklearn.__version__)"
   ]
  },
  {
   "cell_type": "code",
   "execution_count": 5,
   "metadata": {
    "execution": {
     "iopub.execute_input": "2021-06-05T12:56:14.823351Z",
     "iopub.status.busy": "2021-06-05T12:56:14.822885Z",
     "iopub.status.idle": "2021-06-05T12:56:14.835452Z",
     "shell.execute_reply": "2021-06-05T12:56:14.834209Z",
     "shell.execute_reply.started": "2021-06-05T12:56:14.823317Z"
    }
   },
   "outputs": [],
   "source": [
    "np.random.seed(0)"
   ]
  },
  {
   "cell_type": "code",
   "execution_count": 4,
   "metadata": {
    "execution": {
     "iopub.execute_input": "2021-06-05T12:56:14.837409Z",
     "iopub.status.busy": "2021-06-05T12:56:14.837103Z",
     "iopub.status.idle": "2021-06-05T12:56:17.573912Z",
     "shell.execute_reply": "2021-06-05T12:56:17.572383Z",
     "shell.execute_reply.started": "2021-06-05T12:56:14.837369Z"
    }
   },
   "outputs": [],
   "source": [
    "!pip freeze > requirements.txt"
   ]
  },
  {
   "cell_type": "code",
   "execution_count": null,
   "metadata": {},
   "outputs": [],
   "source": [
    "DATA_DIR = '../input/findata-creditscoring/'\n",
    "train = pd.read_csv(DATA_DIR + 'credit_train.csv')\n",
    "test = pd.read_csv(DATA_DIR + 'credit_test.csv')\n",
    "sample_submission = pd.read_csv(DATA_DIR + 'credit__sample.csv')\n",
    "train.drop_duplicates(keep='first', inplace = True)\n",
    "train['Loan Status'] = train['Loan Status'].map({\"Fully Paid\": 1, \"Charged Off\": 0})\n",
    "train.drop(['Loan ID','Customer ID',], axis = 1, inplace=True)\n",
    "test.drop(['Loan ID','Customer ID',], axis = 1, inplace=True)"
   ]
  },
  {
   "cell_type": "code",
   "execution_count": null,
   "metadata": {},
   "outputs": [],
   "source": [
    "y = train['Loan Status'].values     \n",
    "X = train.drop(['Loan Status'], axis=1)"
   ]
  },
  {
   "cell_type": "code",
   "execution_count": 12,
   "metadata": {},
   "outputs": [],
   "source": [
    "from AutoML import AutoMLClassifier "
   ]
  },
  {
   "cell_type": "code",
   "execution_count": 8,
   "metadata": {
    "execution": {
     "iopub.execute_input": "2021-06-05T12:56:18.771934Z",
     "iopub.status.busy": "2021-06-05T12:56:18.771569Z",
     "iopub.status.idle": "2021-06-05T14:10:26.964304Z",
     "shell.execute_reply": "2021-06-05T14:10:26.962798Z",
     "shell.execute_reply.started": "2021-06-05T12:56:18.771899Z"
    }
   },
   "outputs": [
    {
     "name": "stdout",
     "output_type": "stream",
     "text": [
      "Fitting 5 folds for each of 50 candidates, totalling 250 fits\n"
     ]
    }
   ],
   "source": [
    "model = AutoMLClassifier()\n",
    "model.fit(X, y)"
   ]
  },
  {
   "cell_type": "code",
   "execution_count": 9,
   "metadata": {
    "execution": {
     "iopub.execute_input": "2021-06-05T14:10:26.968189Z",
     "iopub.status.busy": "2021-06-05T14:10:26.967864Z",
     "iopub.status.idle": "2021-06-05T14:10:26.981881Z",
     "shell.execute_reply": "2021-06-05T14:10:26.980308Z",
     "shell.execute_reply.started": "2021-06-05T14:10:26.968154Z"
    }
   },
   "outputs": [
    {
     "data": {
      "text/plain": [
       "{'preprocessor__numerical__scaler': None,\n",
       " 'preprocessor__numerical__cleaner__strategy': 'median',\n",
       " 'feature_selector__k': 41,\n",
       " 'estimator__n_estimators': 275,\n",
       " 'estimator__criterion': 'gini',\n",
       " 'estimator': RandomForestClassifier(n_estimators=275, random_state=0)}"
      ]
     },
     "execution_count": 9,
     "metadata": {},
     "output_type": "execute_result"
    }
   ],
   "source": [
    "model.best_pipeline"
   ]
  },
  {
   "cell_type": "code",
   "execution_count": 10,
   "metadata": {
    "execution": {
     "iopub.execute_input": "2021-06-05T14:10:26.984447Z",
     "iopub.status.busy": "2021-06-05T14:10:26.983910Z",
     "iopub.status.idle": "2021-06-05T14:10:27.002085Z",
     "shell.execute_reply": "2021-06-05T14:10:27.001260Z",
     "shell.execute_reply.started": "2021-06-05T14:10:26.984400Z"
    }
   },
   "outputs": [
    {
     "data": {
      "text/plain": [
       "0.8007796402517124"
      ]
     },
     "execution_count": 10,
     "metadata": {},
     "output_type": "execute_result"
    }
   ],
   "source": [
    "model.best_score"
   ]
  },
  {
   "cell_type": "code",
   "execution_count": 11,
   "metadata": {
    "execution": {
     "iopub.execute_input": "2021-06-05T14:10:27.004540Z",
     "iopub.status.busy": "2021-06-05T14:10:27.003742Z",
     "iopub.status.idle": "2021-06-05T14:10:29.143049Z",
     "shell.execute_reply": "2021-06-05T14:10:29.142237Z",
     "shell.execute_reply.started": "2021-06-05T14:10:27.004506Z"
    }
   },
   "outputs": [],
   "source": [
    "with open('RF.pkl', 'wb') as output:\n",
    "       pickle.dump(model, output)"
   ]
  },
  {
   "cell_type": "code",
   "execution_count": 12,
   "metadata": {
    "execution": {
     "iopub.execute_input": "2021-06-05T14:10:29.145499Z",
     "iopub.status.busy": "2021-06-05T14:10:29.144785Z",
     "iopub.status.idle": "2021-06-05T14:10:30.289989Z",
     "shell.execute_reply": "2021-06-05T14:10:30.288774Z",
     "shell.execute_reply.started": "2021-06-05T14:10:29.145454Z"
    }
   },
   "outputs": [],
   "source": [
    "submission = sample_submission\n",
    "submission['Loan Status'] = model.predict(test)\n",
    "submission['Loan Status'] = sample_submission['Loan Status'].map({1 : \"Fully Paid\",  0 : \"Charged Off\"})\n",
    "submission.to_csv('RF.csv', index=False)"
   ]
  },
  {
   "cell_type": "code",
   "execution_count": 13,
   "metadata": {
    "execution": {
     "iopub.execute_input": "2021-06-05T14:10:30.291978Z",
     "iopub.status.busy": "2021-06-05T14:10:30.291508Z",
     "iopub.status.idle": "2021-06-05T14:10:30.312085Z",
     "shell.execute_reply": "2021-06-05T14:10:30.310765Z",
     "shell.execute_reply.started": "2021-06-05T14:10:30.291936Z"
    }
   },
   "outputs": [
    {
     "data": {
      "text/html": [
       "<div>\n",
       "<style scoped>\n",
       "    .dataframe tbody tr th:only-of-type {\n",
       "        vertical-align: middle;\n",
       "    }\n",
       "\n",
       "    .dataframe tbody tr th {\n",
       "        vertical-align: top;\n",
       "    }\n",
       "\n",
       "    .dataframe thead th {\n",
       "        text-align: right;\n",
       "    }\n",
       "</style>\n",
       "<table border=\"1\" class=\"dataframe\">\n",
       "  <thead>\n",
       "    <tr style=\"text-align: right;\">\n",
       "      <th></th>\n",
       "      <th>Loan ID</th>\n",
       "      <th>Loan Status</th>\n",
       "    </tr>\n",
       "  </thead>\n",
       "  <tbody>\n",
       "    <tr>\n",
       "      <th>0</th>\n",
       "      <td>f738779f-c726-40dc-92cf-689d73af533d</td>\n",
       "      <td>Fully Paid</td>\n",
       "    </tr>\n",
       "    <tr>\n",
       "      <th>1</th>\n",
       "      <td>6dcc0947-164d-476c-a1de-3ae7283dde0a</td>\n",
       "      <td>Fully Paid</td>\n",
       "    </tr>\n",
       "    <tr>\n",
       "      <th>2</th>\n",
       "      <td>f7744d01-894b-49c3-8777-fc6431a2cff1</td>\n",
       "      <td>Fully Paid</td>\n",
       "    </tr>\n",
       "    <tr>\n",
       "      <th>3</th>\n",
       "      <td>83721ffb-b99a-4a0f-aea5-ef472a138b41</td>\n",
       "      <td>Fully Paid</td>\n",
       "    </tr>\n",
       "    <tr>\n",
       "      <th>4</th>\n",
       "      <td>08f3789f-5714-4b10-929d-e1527ab5e5a3</td>\n",
       "      <td>Fully Paid</td>\n",
       "    </tr>\n",
       "  </tbody>\n",
       "</table>\n",
       "</div>"
      ],
      "text/plain": [
       "                                Loan ID Loan Status\n",
       "0  f738779f-c726-40dc-92cf-689d73af533d  Fully Paid\n",
       "1  6dcc0947-164d-476c-a1de-3ae7283dde0a  Fully Paid\n",
       "2  f7744d01-894b-49c3-8777-fc6431a2cff1  Fully Paid\n",
       "3  83721ffb-b99a-4a0f-aea5-ef472a138b41  Fully Paid\n",
       "4  08f3789f-5714-4b10-929d-e1527ab5e5a3  Fully Paid"
      ]
     },
     "execution_count": 13,
     "metadata": {},
     "output_type": "execute_result"
    }
   ],
   "source": [
    "submission.head()"
   ]
  },
  {
   "cell_type": "markdown",
   "metadata": {},
   "source": [
    "### Выводы"
   ]
  },
  {
   "cell_type": "markdown",
   "metadata": {},
   "source": [
    "1. Реализована библиотека, автоматизирующая последовательные этапы конвейера машинного обучения:\n",
    "- заполнение пропусков в данных\n",
    "- кодирование категориальных переменных\n",
    "- масштабирование числовых переменных\n",
    "- подбор признаков.\n",
    "- выбор модели\n",
    "- настройку гиперпараметров\n",
    "\n",
    "2. Методом случайного решетчатого поиска с кросс-валидацией выбраны оптимальные гиперпараметры машинного обучения:\n",
    "- без масштабирования числовых признаков\n",
    "- алгоритм заполнения пропусков - медиана\n",
    "- количество выбранных для обучения модели признаков - 41 шт.\n",
    "- алгоритм ML - \"случайный лес\"\n",
    "- количество деревьев - 275 шт.\n",
    "- критерий информативности - Джини\n",
    "\n",
    "3. Обучение указанной модели ML позволило достичь Accuracy, составляющей более 0.8.\n",
    "\n",
    "4. На тестовых данных, предложенных на соревновании [Kaggle](https://www.kaggle.com/c/findata-creditscoring/leaderboard), значение Accuracy - 0.82266 (по состоянию на 05.06.2021 - 17 место из 269 (TOP7%), nickname - Evgeniy Grinkin)"
   ]
  }
 ],
 "metadata": {
  "kernelspec": {
   "display_name": "Python 3",
   "language": "python",
   "name": "python3"
  },
  "language_info": {
   "codemirror_mode": {
    "name": "ipython",
    "version": 3
   },
   "file_extension": ".py",
   "mimetype": "text/x-python",
   "name": "python",
   "nbconvert_exporter": "python",
   "pygments_lexer": "ipython3",
   "version": "3.8.3"
  }
 },
 "nbformat": 4,
 "nbformat_minor": 4
}
