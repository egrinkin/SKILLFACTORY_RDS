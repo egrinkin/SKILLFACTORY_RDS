{
 "cells": [
  {
   "cell_type": "markdown",
   "metadata": {
    "_cell_guid": "b1076dfc-b9ad-4769-8c92-a6c4dae69d19",
    "_uuid": "8f2839f25d086af736a60e9eeb907d3b93b6e0e5",
    "execution": {
     "iopub.execute_input": "2021-05-29T18:24:55.260711Z",
     "iopub.status.busy": "2021-05-29T18:24:55.260325Z",
     "iopub.status.idle": "2021-05-29T18:24:55.265434Z",
     "shell.execute_reply": "2021-05-29T18:24:55.264637Z",
     "shell.execute_reply.started": "2021-05-29T18:24:55.260686Z"
    }
   },
   "source": [
    "## Multi-layer Perceptron Classifier"
   ]
  },
  {
   "cell_type": "code",
   "execution_count": 3,
   "metadata": {
    "execution": {
     "iopub.execute_input": "2021-06-05T12:59:44.874806Z",
     "iopub.status.busy": "2021-06-05T12:59:44.874404Z",
     "iopub.status.idle": "2021-06-05T12:59:44.880720Z",
     "shell.execute_reply": "2021-06-05T12:59:44.879714Z",
     "shell.execute_reply.started": "2021-06-05T12:59:44.874772Z"
    }
   },
   "outputs": [],
   "source": [
    "import sys\n",
    "import numpy as np\n",
    "import pandas as pd\n",
    "import sklearn\n",
    "from sklearn.impute import SimpleImputer\n",
    "from sklearn.compose import ColumnTransformer, make_column_selector\n",
    "from sklearn.preprocessing import StandardScaler, MinMaxScaler, RobustScaler, OneHotEncoder,PowerTransformer\n",
    "from sklearn.feature_selection import SelectKBest, f_classif\n",
    "from sklearn.model_selection import RandomizedSearchCV\n",
    "from sklearn.pipeline import Pipeline\n",
    "from sklearn.neural_network import MLPClassifier\n",
    "import itertools"
   ]
  },
  {
   "cell_type": "code",
   "execution_count": 4,
   "metadata": {
    "execution": {
     "iopub.execute_input": "2021-06-05T12:59:44.883300Z",
     "iopub.status.busy": "2021-06-05T12:59:44.882835Z",
     "iopub.status.idle": "2021-06-05T12:59:44.900066Z",
     "shell.execute_reply": "2021-06-05T12:59:44.899079Z",
     "shell.execute_reply.started": "2021-06-05T12:59:44.883252Z"
    }
   },
   "outputs": [
    {
     "name": "stdout",
     "output_type": "stream",
     "text": [
      "Python       : 3.7.10 | packaged by conda-forge | (default, Feb 19 2021, 16:07:37) \n",
      "Numpy        : 1.19.5\n",
      "Pandas       : 1.2.3\n",
      "Sklearn      : 0.24.1\n"
     ]
    }
   ],
   "source": [
    "print('Python       :', sys.version.split('\\n')[0])\n",
    "print('Numpy        :', np.__version__)\n",
    "print('Pandas       :', pd.__version__)\n",
    "print('Sklearn      :', sklearn.__version__)"
   ]
  },
  {
   "cell_type": "code",
   "execution_count": 5,
   "metadata": {
    "execution": {
     "iopub.execute_input": "2021-06-05T12:59:44.902859Z",
     "iopub.status.busy": "2021-06-05T12:59:44.902386Z",
     "iopub.status.idle": "2021-06-05T12:59:44.916070Z",
     "shell.execute_reply": "2021-06-05T12:59:44.914963Z",
     "shell.execute_reply.started": "2021-06-05T12:59:44.902797Z"
    }
   },
   "outputs": [],
   "source": [
    "np.random.seed(0)"
   ]
  },
  {
   "cell_type": "code",
   "execution_count": 6,
   "metadata": {
    "execution": {
     "iopub.execute_input": "2021-06-05T12:59:44.918892Z",
     "iopub.status.busy": "2021-06-05T12:59:44.918403Z",
     "iopub.status.idle": "2021-06-05T12:59:47.588539Z",
     "shell.execute_reply": "2021-06-05T12:59:47.587132Z",
     "shell.execute_reply.started": "2021-06-05T12:59:44.918842Z"
    }
   },
   "outputs": [],
   "source": [
    "!pip freeze > requirements.txt"
   ]
  },
  {
   "cell_type": "code",
   "execution_count": 7,
   "metadata": {
    "execution": {
     "iopub.execute_input": "2021-06-05T12:59:47.590894Z",
     "iopub.status.busy": "2021-06-05T12:59:47.590442Z",
     "iopub.status.idle": "2021-06-05T12:59:47.609464Z",
     "shell.execute_reply": "2021-06-05T12:59:47.608104Z",
     "shell.execute_reply.started": "2021-06-05T12:59:47.590843Z"
    }
   },
   "outputs": [],
   "source": [
    "class AutoMLPClassifier:\n",
    "    \n",
    "    def __init__(self, \n",
    "        scoring_function = 'accuracy', \n",
    "        n_iter = 50):\n",
    "        self.scoring_function = scoring_function\n",
    "        self.n_iter = n_iter\n",
    "        \n",
    "    def fit(self,X,y):\n",
    "        X_train = X\n",
    "        y_train = y\n",
    "\n",
    "        categorical_values = []\n",
    "\n",
    "        cat_subset = X_train.select_dtypes(include = ['object','category','bool'])\n",
    "\n",
    "        for i in range(cat_subset.shape[1]):\n",
    "            categorical_values.append(list(cat_subset.iloc[:,i].dropna().unique()))\n",
    "        \n",
    "        num_pipeline = Pipeline([\n",
    "            ('cleaner',SimpleImputer()),\n",
    "            ('scaler',StandardScaler())\n",
    "            ])\n",
    "\n",
    "        cat_pipeline = Pipeline([\n",
    "            ('cleaner',SimpleImputer(strategy = 'most_frequent')),\n",
    "            ('encoder',OneHotEncoder(sparse = False, categories=categorical_values))\n",
    "            ])\n",
    "\n",
    "\n",
    "        preprocessor = ColumnTransformer([\n",
    "            ('numerical', num_pipeline, make_column_selector(dtype_exclude=['object','category','bool'])),\n",
    "            ('categorical', cat_pipeline, make_column_selector(dtype_include=['object','category','bool']))\n",
    "            ])\n",
    "            \n",
    "        model_pipeline_steps = []\n",
    "        model_pipeline_steps.append(('preprocessor',preprocessor))\n",
    "        model_pipeline_steps.append(('feature_selector',SelectKBest(f_classif,k='all')))\n",
    "        model_pipeline_steps.append(('estimator', MLPClassifier()))\n",
    "        model_pipeline = Pipeline(model_pipeline_steps)\n",
    "\n",
    "        total_features = preprocessor.fit_transform(X_train).shape[1]\n",
    "\n",
    "        optimization_grid = []\n",
    "        \n",
    "        optimization_grid.append({\n",
    "        'preprocessor__numerical__scaler':[RobustScaler(),StandardScaler(),MinMaxScaler()],\n",
    "        'preprocessor__numerical__cleaner__strategy':['mean','median'],\n",
    "        'feature_selector__k': list(np.arange(1,total_features,5)) + ['all'],\n",
    "        'estimator' : [MLPClassifier(random_state = 0)],\n",
    "        'estimator__hidden_layer_sizes' : [x for x in itertools.product((1, 5, 10, 20, 30, 40, 50, 100),repeat=3)],\n",
    "        'estimator__max_iter': np.arange(1000, 10000000, 10000),\n",
    "        'estimator__activation' : ['identity', 'logistic', 'tanh', 'relu'],\n",
    "        'estimator__alpha' : np.linspace(0.0000001, 0.01, 100)\n",
    "        })\n",
    "\n",
    "        search = RandomizedSearchCV(\n",
    "                          model_pipeline,\n",
    "                          optimization_grid,\n",
    "                          n_iter=self.n_iter,\n",
    "                          scoring = self.scoring_function, \n",
    "                          n_jobs = -1, \n",
    "                          random_state = 0, \n",
    "                          verbose = 3,\n",
    "                          cv = 5\n",
    "                            )\n",
    "\n",
    "        search.fit(X_train, y_train)\n",
    "        \n",
    "        self.best_estimator_ = search.best_estimator_\n",
    "        self.best_pipeline = search.best_params_\n",
    "        self.best_score = search.best_score_\n",
    "        self.cv_results = search.cv_results_\n",
    "        \n",
    "    def predict(self,X,y = None):\n",
    "        return self.best_estimator_.predict(X)\n",
    "\n",
    "    def predict_proba(self,X,y = None):\n",
    "        return self.best_estimator_.predict_proba(X)"
   ]
  },
  {
   "cell_type": "code",
   "execution_count": 8,
   "metadata": {
    "execution": {
     "iopub.execute_input": "2021-06-05T12:59:47.611417Z",
     "iopub.status.busy": "2021-06-05T12:59:47.611049Z",
     "iopub.status.idle": "2021-06-05T12:59:48.649358Z",
     "shell.execute_reply": "2021-06-05T12:59:48.648311Z",
     "shell.execute_reply.started": "2021-06-05T12:59:47.611384Z"
    }
   },
   "outputs": [],
   "source": [
    "DATA_DIR = '../input/findata-creditscoring/'\n",
    "train = pd.read_csv(DATA_DIR + 'credit_train.csv')\n",
    "test = pd.read_csv(DATA_DIR + 'credit_test.csv')\n",
    "sample_submission = pd.read_csv(DATA_DIR + 'credit__sample.csv')\n",
    "train.drop_duplicates(keep='first', inplace = True)\n",
    "train['Loan Status'] = train['Loan Status'].map({\"Fully Paid\": 1, \"Charged Off\": 0})\n",
    "loan_status_1 = test[test['Current Loan Amount'] == 99999999]['Loan ID']\n",
    "loan_status_0 = test[test['Credit Score'] > 800]['Loan ID']\n",
    "train.drop(['Loan ID','Customer ID',], axis = 1, inplace=True)\n",
    "test.drop(['Loan ID','Customer ID',], axis = 1, inplace=True)"
   ]
  },
  {
   "cell_type": "code",
   "execution_count": 9,
   "metadata": {
    "execution": {
     "iopub.execute_input": "2021-06-05T12:59:48.650958Z",
     "iopub.status.busy": "2021-06-05T12:59:48.650643Z",
     "iopub.status.idle": "2021-06-05T12:59:48.662255Z",
     "shell.execute_reply": "2021-06-05T12:59:48.661298Z",
     "shell.execute_reply.started": "2021-06-05T12:59:48.650926Z"
    }
   },
   "outputs": [],
   "source": [
    "X = train.drop(['Loan Status'], axis=1)\n",
    "y = train['Loan Status'].values  "
   ]
  },
  {
   "cell_type": "code",
   "execution_count": 10,
   "metadata": {
    "execution": {
     "iopub.execute_input": "2021-06-05T12:59:48.664656Z",
     "iopub.status.busy": "2021-06-05T12:59:48.664145Z",
     "iopub.status.idle": "2021-06-05T15:11:08.590441Z",
     "shell.execute_reply": "2021-06-05T15:11:08.589075Z",
     "shell.execute_reply.started": "2021-06-05T12:59:48.664619Z"
    }
   },
   "outputs": [
    {
     "name": "stdout",
     "output_type": "stream",
     "text": [
      "Fitting 5 folds for each of 50 candidates, totalling 250 fits\n"
     ]
    }
   ],
   "source": [
    "model = AutoMLPClassifier()\n",
    "model.fit(X, y)"
   ]
  },
  {
   "cell_type": "code",
   "execution_count": 11,
   "metadata": {
    "execution": {
     "iopub.execute_input": "2021-06-05T15:11:08.592693Z",
     "iopub.status.busy": "2021-06-05T15:11:08.592388Z",
     "iopub.status.idle": "2021-06-05T15:11:08.605341Z",
     "shell.execute_reply": "2021-06-05T15:11:08.604351Z",
     "shell.execute_reply.started": "2021-06-05T15:11:08.592661Z"
    }
   },
   "outputs": [
    {
     "data": {
      "text/plain": [
       "{'preprocessor__numerical__scaler': RobustScaler(),\n",
       " 'preprocessor__numerical__cleaner__strategy': 'median',\n",
       " 'feature_selector__k': 31,\n",
       " 'estimator__max_iter': 5521000,\n",
       " 'estimator__hidden_layer_sizes': (40, 30, 5),\n",
       " 'estimator__alpha': 0.005353581818181819,\n",
       " 'estimator__activation': 'logistic',\n",
       " 'estimator': MLPClassifier(activation='logistic', alpha=0.005353581818181819,\n",
       "               hidden_layer_sizes=(40, 30, 5), max_iter=5521000, random_state=0)}"
      ]
     },
     "execution_count": 11,
     "metadata": {},
     "output_type": "execute_result"
    }
   ],
   "source": [
    "model.best_pipeline"
   ]
  },
  {
   "cell_type": "code",
   "execution_count": 12,
   "metadata": {
    "execution": {
     "iopub.execute_input": "2021-06-05T15:11:08.607326Z",
     "iopub.status.busy": "2021-06-05T15:11:08.606905Z",
     "iopub.status.idle": "2021-06-05T15:11:08.619835Z",
     "shell.execute_reply": "2021-06-05T15:11:08.618574Z",
     "shell.execute_reply.started": "2021-06-05T15:11:08.607290Z"
    }
   },
   "outputs": [
    {
     "data": {
      "text/plain": [
       "0.7989976053906555"
      ]
     },
     "execution_count": 12,
     "metadata": {},
     "output_type": "execute_result"
    }
   ],
   "source": [
    "model.best_score"
   ]
  },
  {
   "cell_type": "markdown",
   "metadata": {},
   "source": [
    "### Выводы"
   ]
  },
  {
   "cell_type": "markdown",
   "metadata": {},
   "source": [
    "1. На тренировочных данных обучен многослоевой перцептрон.\n",
    "2. Построен пайплайн, включающий заполнение пустых значений признаков, one-hot-кодирование категориальных признаков и стандартизацию числовых признаков, отбор значимых признаков и непосредственно обучение модели. \n",
    "3. Подбор гиперпараметров осуществлен с помощью случайного решетчатого поиска с кросс-валидацией на 5 фолдах. \n",
    "4. Значение метрики не превзошло достигнутого ранее результата с помощью \"случайного леса\". "
   ]
  }
 ],
 "metadata": {
  "kernelspec": {
   "display_name": "Python 3",
   "language": "python",
   "name": "python3"
  },
  "language_info": {
   "codemirror_mode": {
    "name": "ipython",
    "version": 3
   },
   "file_extension": ".py",
   "mimetype": "text/x-python",
   "name": "python",
   "nbconvert_exporter": "python",
   "pygments_lexer": "ipython3",
   "version": "3.8.3"
  }
 },
 "nbformat": 4,
 "nbformat_minor": 4
}
